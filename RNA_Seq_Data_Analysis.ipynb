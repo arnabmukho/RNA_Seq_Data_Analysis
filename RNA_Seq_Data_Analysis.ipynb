{
  "cells": [
    {
      "cell_type": "markdown",
      "metadata": {
        "id": "view-in-github",
        "colab_type": "text"
      },
      "source": [
        "<a href=\"https://colab.research.google.com/github/arnabmukho/RNA_Seq_Data_Analysis/blob/main/RNA_Seq_Data_Analysis.ipynb\" target=\"_parent\"><img src=\"https://colab.research.google.com/assets/colab-badge.svg\" alt=\"Open In Colab\"/></a>"
      ]
    },
    {
      "cell_type": "code",
      "execution_count": null,
      "metadata": {
        "id": "bL93GZBBxY3Y"
      },
      "outputs": [],
      "source": [
        "%reload_ext rpy2.ipython\n"
      ]
    },
    {
      "cell_type": "markdown",
      "metadata": {
        "id": "IE0b68JCb46O"
      },
      "source": [
        "Mount your Google drive to the notebook"
      ]
    },
    {
      "cell_type": "code",
      "execution_count": null,
      "metadata": {
        "id": "K3Vo1G8zEmXn",
        "colab": {
          "base_uri": "https://localhost:8080/"
        },
        "outputId": "7e1d625c-2303-4e72-9d70-77968f64ca33"
      },
      "outputs": [
        {
          "output_type": "stream",
          "name": "stdout",
          "text": [
            "Mounted at /content/drive\n"
          ]
        }
      ],
      "source": [
        "from google.colab import drive\n",
        "drive.mount('/content/drive', force_remount = True)"
      ]
    },
    {
      "cell_type": "markdown",
      "metadata": {
        "id": "epXHFHFVEnNM"
      },
      "source": [
        "# RNA Sequencing Data Analysis"
      ]
    },
    {
      "cell_type": "markdown",
      "metadata": {
        "id": "ZmzxUrti_i50"
      },
      "source": [
        "Install following softwares"
      ]
    },
    {
      "cell_type": "code",
      "execution_count": null,
      "metadata": {
        "id": "FPL6OK3x5B34"
      },
      "outputs": [],
      "source": [
        "!apt-get install fastqc\n",
        "!apt-get install bwa\n",
        "!apt-get install samtools\n",
        "!apt-get install bedtools"
      ]
    },
    {
      "cell_type": "markdown",
      "metadata": {
        "id": "Q2XjoK3Tdmnp"
      },
      "source": [
        "1. Checking raw read quality\n",
        "\n",
        "The first thing one should do is to check the quality of reads.\n",
        "\n",
        "Sequence read quality can be checked using ‘FASTQC’ software. The software can be downloaded from the following link: https://www.bioinformatics.babraham.ac.uk/projects/fastqc/fastqc_v0.11.9.zip This will download the zipped file. Extract the content of the file (Right-click on the file > extract here). The software will be usable just like any GUI software.\n",
        "\n",
        "In the command line or google colab, fastqc can be downloaded as instructed in the ‘Installing Softwares’ section.\n",
        "\n",
        "To run a quality check, run the following command in the cell after installation: !fastqc p/sample.fastq -o output_dir\n",
        "\n",
        "(Note: Change the directory path, file name and output directory name accordingly)\n",
        "\n",
        "This will result in a '.html' file in the output directory (out_dir) mentioned."
      ]
    },
    {
      "cell_type": "code",
      "execution_count": null,
      "metadata": {
        "id": "T_aorSeyzWn0",
        "colab": {
          "base_uri": "https://localhost:8080/"
        },
        "outputId": "fabdf605-9aa9-4107-f7a6-9056f43191ab"
      },
      "outputs": [
        {
          "output_type": "stream",
          "name": "stdout",
          "text": [
            "Specified output directory '/content/drive/MyDrive/RNA_seq_V/fastq_dir' does not exist\n"
          ]
        }
      ],
      "source": [
        "!fastqc /content/drive/MyDrive/RNA_seq_V/fastq_dir/sample.fastq -o /content/drive/MyDrive/RNA_seq_V/fastq_dir"
      ]
    },
    {
      "cell_type": "markdown",
      "metadata": {
        "id": "8F-YBcM9B6Vg"
      },
      "source": [
        "**2. Removing adapters (Not mandatory in mRNA DGE analysis)**\n",
        "\n",
        "Adapters can be trimmed using the following command:\n",
        "! cutadapt -a adapter_sequence -o path/sample_output.fastq path/sample_input.fastq\n",
        "\n",
        "Adapter sequences contaminate reads content in sequencing and can result in misalignment and thus increase in the number of unaligned reads.\n",
        "\n",
        "Since the number of reads in mRNA sequencing for DGE analysis is huge, this contamination is expected to be small, thus this step is not required for the analysis.\n"
      ]
    },
    {
      "cell_type": "markdown",
      "metadata": {
        "id": "K_dlp8pfAmex"
      },
      "source": [
        "**3. Indexing the reference genome**\n",
        "\n",
        "Just like an index in a book is needed for a quick search inside the book, Indexing the reference file allows the software to search and align the reads to the reference genome which saves both memory as well as time.\n",
        "\n",
        "To index the genome, run the following command to index the genome:\n",
        "!bwa index -a is path/reference_file\n",
        "\n",
        "Here, the reference file is the DNA fasta file in ‘.fna’ format.\n",
        "The above command will generate 5 index files.\n",
        "The above files should be kept in the same folder as the reference genome and should NOT be renamed.\n"
      ]
    },
    {
      "cell_type": "code",
      "execution_count": null,
      "metadata": {
        "id": "m193C3T1zcGf"
      },
      "outputs": [],
      "source": [
        "!bwa index -a is /content/drive/MyDrive/RNA_seq_V/reference_dir/sequence.fasta"
      ]
    },
    {
      "cell_type": "markdown",
      "metadata": {
        "id": "MNl4-5RkCnBY"
      },
      "source": [
        "**4. Aligning raw reads against the indexed reference genome**\n",
        "\n",
        "\n",
        "Once the genome is indexed, the reads (in sample.fastq) are aligned and sequence alignment (SA) coordinates are obtained.\n",
        "\n",
        "To align the reads, run the following command:\n",
        "\n",
        "! bwa aln -q 20 path/reference_file sample.fastq > path/sample.sai (**Note:** Change the directory path and file name accordingly)\n",
        "\n",
        "The -q option is used to filter reads based on the average read quality score (mean Phred score).\n",
        "\n",
        "Phred score threshold of 20 (-q 20) means that on average, the likelihood of finding an incorrect base in the read is 1 in 100.\n"
      ]
    },
    {
      "cell_type": "code",
      "execution_count": null,
      "metadata": {
        "id": "iwl3BK0U1FHe"
      },
      "outputs": [],
      "source": [
        "! bwa aln -q 20 /content/drive/MyDrive/RNA_seq_V/reference_dir/sequence.fasta /content/drive/MyDrive/RNA_seq_V/fastq_dir/sample.fastq > /content/drive/MyDrive/RNA_seq_V/sai_dir/sample.sai"
      ]
    },
    {
      "cell_type": "markdown",
      "metadata": {
        "id": "FsxZ1q06DBa9"
      },
      "source": [
        "**5. Sai to sam conversion**\n",
        "\n",
        "This step generates the alignment in SAM format, a human-readable format where each line represents a mapped read.\n",
        "\n",
        "Run the following command to create a sam file:\n",
        "!bwa samse path/reference_file path/sample.sai path/sample.fastq > path/sample.sam (**Note:** Change the directory path and file name accordingly)\n",
        "\n",
        "The samse option is used for the single-end (se) reads. For paired-end (pe), ‘sampe’ option is used.\n",
        "\n",
        "SAM file contains the following:\n",
        "\n",
        "**Column 1:** Name of the read.\n",
        "\n",
        "**Column 2:** Mapping information about the read denoted as Flag integer. Each value has different mapping information associated with it. For example, a score of 16 means the read is aligned in the reverse direction. For mapped and unmapped reads the Flag value is 2 and 4 respectively.\n",
        "\n",
        "**Column 3:** ID of the reference genome.\n",
        "\n",
        "**Column 4:** 1-based Left-most position (wrt. Reference sequence) of the mapped read.\n",
        "\n",
        "**Column 5:** Mapping quality as Phred score. It gives the information about the probability that the read is mapped correctly on the reference. For example, a Phred score of 30 means that the probability of incorrect mapping of the read is 1 in 1000.\n",
        "\n",
        "**Column 6:** CIGAR, an alphanumeric combination which gives the information about how the read is mapped to the reference in terms of insertion, deletion, matches and mismatches. For example, 6M2I4M means 6 bases in the read matches to the reference,  2 bases present in reads that are absent in reference and 4 bases in the read that match with the reference.\n",
        "\n",
        "**Column 7:** RNEXT provides the name of the reference for the next read. If information is unavailable, it will contain “*”, in case of identical reference, it will be “=”.\n",
        "\n",
        "**Column 8:** PNEXT, the 1-based position of the next read. It will be 0 if information is unavailable.\n",
        "\n",
        "**Column 9:** TLEN, length of the reference template to which the read is mapping. For instance, in case of 100% match between the read and the template this value will be equal to read length, whereas in case of deletion in the read this value will be more than the read length.\n",
        "\n",
        "**Column 10:** Sequence of the read. (SEQ)\n",
        "\n",
        "**Column 11:** Quality of the read in ASCII format, similar to the one provided in the Fastq sequence file\n",
        "For more information on the sam file, please refer to: https://samtools.github.io/hts-specs/SAMv1.pdf\n",
        "\n",
        "\n",
        "\n"
      ]
    },
    {
      "cell_type": "code",
      "execution_count": null,
      "metadata": {
        "id": "P4xK9G3J1Izr"
      },
      "outputs": [],
      "source": [
        "!bwa samse /content/drive/MyDrive/RNA_seq_V/reference_dir/sequence.fasta /content/drive/MyDrive/RNA_seq_V/sai_dir/sample.sai /content/drive/MyDrive/RNA_seq_V/fastq_dir/sample.fastq > /content/drive/MyDrive/RNA_seq_V/sam_dir/sample.sam"
      ]
    },
    {
      "cell_type": "markdown",
      "metadata": {
        "id": "CFYeOXxjyuU3"
      },
      "source": [
        "let's visualise sam file"
      ]
    },
    {
      "cell_type": "code",
      "execution_count": null,
      "metadata": {
        "id": "FgrhtE5D7lME"
      },
      "outputs": [],
      "source": [
        "! head -15 /content/drive/MyDrive/RNA_seq_V/sam_dir/sample.sam"
      ]
    },
    {
      "cell_type": "markdown",
      "metadata": {
        "id": "Ihg1Vkyhzqd4"
      },
      "source": [
        "**6. Converting .sam to .bam file**\n",
        "\n",
        "SAM file is converted to its binary format (BAM) using the following command:\n",
        "\n",
        "!samtools view -q1 -Sb path/sample.sam > path/sample.bam (**Note:** Change the directory path and file name accordingly)\n",
        "\n",
        "The -q option applies filter on mapping quality (MAPQ) of the reads, where 0 means that all reads will be considered and converted to bam whereas a higher value denotes that more uniquely mapped reads will be selected from the bam file."
      ]
    },
    {
      "cell_type": "code",
      "execution_count": null,
      "metadata": {
        "id": "Ol_Zw-DYzrd_"
      },
      "outputs": [],
      "source": [
        "!samtools view -q1 -Sb /content/drive/MyDrive/RNA_seq_V/sam_dir/sample.sam > /content/drive/MyDrive/RNA_seq_V/bam_dir/sample.bam"
      ]
    },
    {
      "cell_type": "markdown",
      "metadata": {
        "id": "Ry76E_SRzwjF"
      },
      "source": [
        "**7. Sorting the .bam file**\n",
        "\n",
        "The bam file is sorted based on the position of the read for follow-up steps using following command:\n",
        "!samtools sort path/sample.bam  -o path/sample.sorted.bam\n"
      ]
    },
    {
      "cell_type": "code",
      "execution_count": null,
      "metadata": {
        "id": "E9btQW1yztX0"
      },
      "outputs": [],
      "source": [
        "!samtools sort /content/drive/MyDrive/RNA_seq_V/bam_dir/sample.bam -o /content/drive/MyDrive/RNA_seq_V/bam_dir/sample.sorted.bam"
      ]
    },
    {
      "cell_type": "markdown",
      "metadata": {
        "id": "qRGS2Hy7z1l7"
      },
      "source": [
        "**8. Indexing the sorted bam file**\n",
        "\n",
        "Similar to indexing the reference genome in the initial steps, the sorted bam file is indexed for fast implementation of the following steps.\n"
      ]
    },
    {
      "cell_type": "code",
      "execution_count": null,
      "metadata": {
        "id": "JTGAhJ_qzyZw"
      },
      "outputs": [],
      "source": [
        "!samtools index /content/drive/MyDrive/RNA_seq_V/bam_dir/sample.sorted.bam"
      ]
    },
    {
      "cell_type": "markdown",
      "metadata": {
        "id": "WDyFHFY5z4Bp"
      },
      "source": [
        "**9. Displaying statistics of the mapped reads**\n",
        "\n",
        "To check the total number and proportion of  mapped reads, run:\n",
        "\n",
        "!samtools flagstat path/sample.sorted.bam > path/sample.flagstat\n",
        "\n",
        "(**Note:** Change the directory path and file name accordingly)\n",
        "\n",
        "After obtaining the statistics on mapped reads, and information on genome size and read length, genome coverage should be calculated using the following formula:\n",
        "\n",
        "Coverage = (Number of reads mapped * Length of a read) / Effective genome size\n",
        "\n",
        "The effective genome size is the size of the genome providing reads, for DNA sequencing the effective genome size is the actual genome size whereas exome sequencing in the effective genome size is the sum of the exonic regions.\n",
        "\n",
        "Sample with good coverage (>10X for DGE analysis) only should be proceeded with the follow-up analysis.\n"
      ]
    },
    {
      "cell_type": "code",
      "execution_count": null,
      "metadata": {
        "id": "G3gT_s5sz65a"
      },
      "outputs": [],
      "source": [
        "!samtools flagstat /content/drive/MyDrive/RNA_seq/bam_dir/sample.sorted.bam > /content/drive/MyDrive/RNA_seq/flagstat_dir/sample.flagstat"
      ]
    },
    {
      "cell_type": "markdown",
      "metadata": {
        "id": "151MEzsWd34v"
      },
      "source": [
        "10. Converting Bam to Bed file\n",
        "\n",
        "The .bam file should be converted to .bed format to calculate the coverage per gene.\n",
        "\n",
        "Run to following command:\n",
        "\n",
        "!bedtools bamtobed -i path/sample.sorted.bam > path/sample.bed (Note: Change the directory path and file name accordingly)\n",
        "\n",
        "The bed file contains:\n",
        "\n",
        "Column 1: Name of the Chromosome/contig.\n",
        "\n",
        "Column 2: 1 based start position on the chromosome/contig to which a read has mapped.\n",
        "\n",
        "Column 3: End position on the chromosome/contig to which a read has mapped.\n",
        "\n",
        "Column 4: Name of the read mapped.\n",
        "\n",
        "Column 5: Average Phred score of the read (average of Phred scores from the fastq file).\n",
        "\n",
        "Column 6: Strand of the chromosome/contig to which the read has mapped."
      ]
    },
    {
      "cell_type": "code",
      "execution_count": null,
      "metadata": {
        "id": "kEbRVsXX0CIt"
      },
      "outputs": [],
      "source": [
        "!bedtools bamtobed -i /content/drive/MyDrive/RNA_seq/bam_dir/sample.sorted.bam > /content/drive/MyDrive/RNA_seq/bed_dir/sample.bed"
      ]
    },
    {
      "cell_type": "markdown",
      "metadata": {
        "id": "1S8QMuh6d9Gz"
      },
      "source": [
        "11. Preparing annotation bed files\n",
        "\n",
        "To obtain the gene coverage, an annotation file with gene name, position, strand information, and description is needed in .bed format.\n",
        "\n",
        "To convert GFF3 file to .bed format, run:\n",
        "\n",
        "!python path/gff2bed.py path/annotation.gff3 path/annotation.bed\n",
        "\n",
        "(Note: Change the directory path and file name accordingly)"
      ]
    },
    {
      "cell_type": "code",
      "execution_count": null,
      "metadata": {
        "id": "BewoG7Yt0G0y"
      },
      "outputs": [],
      "source": [
        "!python  /content/drive/MyDrive/RNA_seq/annotation_dir/gff2bed.py /content/drive/MyDrive/RNA_seq/annotation_dir/sequence.gff3 /content/drive/MyDrive/RNA_seq/annotation_dir/sequence.bed"
      ]
    },
    {
      "cell_type": "markdown",
      "metadata": {
        "id": "yYQCGukfLVYC"
      },
      "source": [
        "**12. Generating gene coverage file**\n",
        "\n",
        "To generate a file containing how many reads have mapped on each gene of the genome, run:\n",
        "\n",
        "!bedtools coverage -s/-S  -a path/annotation.bed -b path/sample.bed > path/sample.cov\n",
        "\n",
        "-s (forward strand sequencing) or -S (reverse strand sequencing) option should be used depending on the sequencing methodology used.\n",
        "\n",
        "If sequencing is not strand specific or paired-end, then -s/S option is not needed.\n",
        "\n",
        "The coverage file (.cov) contains:\n",
        "\n",
        "**Column 1:** Name of the Chromosome/contig.\n",
        "\n",
        "**Column 2:** 0-based start position of the gene.\n",
        "\n",
        "**Column 3:** End position of the gene\n",
        "\n",
        "**Column 4:** ID of the the gene\n",
        "\n",
        "**Column 5:** Name of the gene\n",
        "\n",
        "**Column 6:** Strand of the gene\n",
        "\n",
        "**Column 7:** Number of reads mapping to the gene\n",
        "\n",
        "**Column 8** Length of gene covered by the reads\n",
        "\n",
        "**Column 9:** Length of the gene\n",
        "\n",
        "**Column 10:** coverage of gene in terms of fraction (col. 8 divided by col. 9)"
      ]
    },
    {
      "cell_type": "code",
      "execution_count": null,
      "metadata": {
        "id": "qBqXfhhs0PFL"
      },
      "outputs": [],
      "source": [
        "!bedtools coverage -S  -a /content/drive/MyDrive/RNA_seq/annotation_dir/sequence.bed -b /content/drive/MyDrive/RNA_seq/bed_dir/sample.bed > /content/drive/MyDrive/RNA_seq/coverage_dir/sample.cov"
      ]
    },
    {
      "cell_type": "code",
      "execution_count": null,
      "metadata": {
        "colab": {
          "base_uri": "https://localhost:8080/"
        },
        "id": "ScWOcY1vQpbQ",
        "outputId": "50ff5935-a55f-4c15-a7a3-fb229ee87a1d"
      },
      "outputs": [
        {
          "name": "stdout",
          "output_type": "stream",
          "text": [
            "head: cannot open '/content/drive/MyDrive/RNA_seq/coverage_dir/sample.cov' for reading: No such file or directory\n"
          ]
        }
      ],
      "source": [
        "! head /content/drive/MyDrive/RNA_seq/coverage_dir/sample.cov"
      ]
    },
    {
      "cell_type": "code",
      "execution_count": null,
      "metadata": {
        "id": "CsDoiOk8TyxJ"
      },
      "outputs": [],
      "source": [
        "%reload_ext rpy2.ipython"
      ]
    },
    {
      "cell_type": "markdown",
      "source": [
        "Differential Gene Expression"
      ],
      "metadata": {
        "id": "OldjyM7Gspig"
      }
    },
    {
      "cell_type": "markdown",
      "metadata": {
        "id": "Z8kcc0FC9-ht"
      },
      "source": [
        "Download and install the following packages"
      ]
    },
    {
      "cell_type": "code",
      "execution_count": null,
      "metadata": {
        "colab": {
          "background_save": true
        },
        "id": "w2fFVeoJ8m63"
      },
      "outputs": [],
      "source": [
        "%%R\n",
        "install.packages('BiocManager')\n",
        "BiocManager::install(\"edgeR\")\n",
        "install.packages('statmod')\n",
        "install.packages('gplots')"
      ]
    },
    {
      "cell_type": "markdown",
      "metadata": {
        "id": "NhQPkfCq-W3f"
      },
      "source": [
        "Load the installed packages"
      ]
    },
    {
      "cell_type": "code",
      "execution_count": null,
      "metadata": {
        "id": "cIZD4EyX-YoN"
      },
      "outputs": [],
      "source": [
        "%%R\n",
        "library(\"edgeR\")\n",
        "library(\"statmod\")\n",
        "library(\"gplots\")"
      ]
    },
    {
      "cell_type": "code",
      "execution_count": null,
      "metadata": {
        "id": "Ed9kGlJt6pjm"
      },
      "outputs": [],
      "source": [
        "from google.colab import drive\n",
        "drive.mount('/content/drive')"
      ]
    },
    {
      "cell_type": "markdown",
      "metadata": {
        "id": "ZMjB2PtQ_vl0"
      },
      "source": [
        "Read the coverage files and make one gene count matrix. (Run following commands in one cell)"
      ]
    },
    {
      "cell_type": "code",
      "execution_count": null,
      "metadata": {
        "id": "QraEkpjU_2px"
      },
      "outputs": [],
      "source": [
        "%%R\n",
        "GenewiseCounts <- c()\n",
        "Gene_coverage <- c()\n",
        "X <- c()\n",
        "index= 0\n",
        "list_all = list.files(\"/content/drive/MyDrive/RNAseq/RNA_seq/coverage_files/\")\n",
        "for (filename in list_all) {\n",
        "index = index +1\n",
        "A <- read.table(paste(\"/content/drive/MyDrive/RNAseq/RNA_seq/coverage_files/\",filename, sep=\"/\"),header = F)\n",
        "A <- A[order(A$V5),]\n",
        "Genes <- A$V5\n",
        "gene_name <- A$V4\n",
        "GenewiseCounts <- cbind(GenewiseCounts,A$V7)\n",
        "colnames(GenewiseCounts)[index]= filename\n",
        "}"
      ]
    },
    {
      "cell_type": "markdown",
      "metadata": {
        "id": "D8ytC4Ma_638"
      },
      "source": [
        "Display the first 5 lines of the gene count matrix (GenewiseCounts) using head() function"
      ]
    },
    {
      "cell_type": "code",
      "execution_count": null,
      "metadata": {
        "id": "XUtnBhAK_84j"
      },
      "outputs": [],
      "source": [
        "%%R\n",
        "head(GenewiseCounts)"
      ]
    },
    {
      "cell_type": "markdown",
      "metadata": {
        "id": "mxmTg4_TC9b-"
      },
      "source": [
        "Name rows as genes and columns of the read count matrix / coverage file as sample names"
      ]
    },
    {
      "cell_type": "code",
      "execution_count": null,
      "metadata": {
        "id": "m5oVgmxIC87l"
      },
      "outputs": [],
      "source": [
        "%%R\n",
        "rownames(GenewiseCounts) <- Genes\n",
        "colnames(GenewiseCounts) <- c(\n",
        "paste(rep(\"WT_UT\",3),seq(1,3),sep = \"_\"),\n",
        "paste(rep(\"WT_NO\",3),seq(1,3),sep = \"_\"),\n",
        "paste(rep(\"KO_UT\",2),seq(1,2),sep = \"_\"),\n",
        "paste(rep(\"KO_NO\",3),seq(1,3),sep = \"_\"))"
      ]
    },
    {
      "cell_type": "markdown",
      "metadata": {
        "id": "f3CU_E9_DF6S"
      },
      "source": [
        "**Remove reads mapping ribosomal RNA (rRNA) features**\n",
        "In the following code, change the rrna gene names according to the genome that you have.\n",
        "\n",
        "In case of eukaryotic mRNA sequencing where poly-A enrichment is done during library preparation, skip this step"
      ]
    },
    {
      "cell_type": "code",
      "execution_count": null,
      "metadata": {
        "id": "VlpKoxRnDibp"
      },
      "outputs": [],
      "source": [
        "%%R\n",
        "rrna <- c(\"rrs\",\"rrl\",\"rrf\")\n",
        "mrna_mapped_reads <- (colSums(GenewiseCounts)-colSums(GenewiseCounts[which(rownames(GenewiseCounts)%in% rrna),]))/1000000\n",
        "print(mrna_mapped_reads)\n",
        "GenewiseCounts <- GenewiseCounts[-which(rownames(GenewiseCounts)%in% rrna),]"
      ]
    },
    {
      "cell_type": "markdown",
      "metadata": {
        "id": "3-VFCn3ZDqzW"
      },
      "source": [
        "**Create sample groups (WT and KO)**\n"
      ]
    },
    {
      "cell_type": "code",
      "execution_count": null,
      "metadata": {
        "id": "BsN3Q1BJDqd3"
      },
      "outputs": [],
      "source": [
        "%%R\n",
        "group<- c(rep(\"WT_UT\",3),rep(\"WT_NO\",3),rep(\"KO_UT\",2),rep(\"KO_NO\",3))\n",
        "print(group)"
      ]
    },
    {
      "cell_type": "markdown",
      "metadata": {
        "id": "VQSdoKVfEMgt"
      },
      "source": [
        "The edgeR package stores data in a simple list-based data object called a DGEList. The main components of a DGEList object are a matrix of read counts, sample information in the data.frame format and optional gene annotation. We enter the counts into a DGEList object using the function DGEList:"
      ]
    },
    {
      "cell_type": "code",
      "execution_count": null,
      "metadata": {
        "id": "q6yf7g1qETDm"
      },
      "outputs": [],
      "source": [
        "%%R\n",
        "y<-DGEList(GenewiseCounts,group=group)\n",
        "y$samples"
      ]
    },
    {
      "cell_type": "markdown",
      "metadata": {
        "id": "ZoUhsdK6Ej2x"
      },
      "source": [
        "The expression profiles of individual samples can be explored more closely with mean-difference (MD) plots. An MD plot visualizes the library size-adjusted log-fold change between two libraries (the difference) against the average log-expression across those libraries (the mean). The following command produces an MD plot that compares sample 1 to an artificial reference library constructed from the average of all the other samples:"
      ]
    },
    {
      "cell_type": "code",
      "execution_count": null,
      "metadata": {
        "id": "shlL8zUdEki9"
      },
      "outputs": [],
      "source": [
        "%%R\n",
        "plotMD(y,column=1)\n",
        "abline(h=0,col=\"red\",lty=2,lwd=2)"
      ]
    },
    {
      "cell_type": "markdown",
      "metadata": {
        "id": "906RUMlzEmy8"
      },
      "source": [
        "**Filter to remove low counts**\n",
        "\n",
        "Genes that have very low counts across all the libraries should be removed prior to downstream analysis. From biological point of view, a gene must be expressed at some minimal level before it is likely to be translated into a protein or to be considered biologically important.\n",
        "\n",
        "From a statistical point of view, genes with consistently low counts are very unlikely be assessed as significantly DE. As a rule of thumb, we require that a gene have a count of at least 10–15 before it is considered to be expressed in the study. Here, we are filtering out genes with read count less than 10 reads.\n"
      ]
    },
    {
      "cell_type": "code",
      "execution_count": null,
      "metadata": {
        "id": "NaKqy8TjFmY0"
      },
      "outputs": [],
      "source": [
        "%%R\n",
        "keep <- rowSums(y$counts >= 10) >= ncol(GenewiseCounts)\n",
        "table(keep)\n",
        "y<-y[keep,keep.lib.sizes=FALSE]"
      ]
    },
    {
      "cell_type": "markdown",
      "metadata": {
        "id": "IGScthsPFpSa"
      },
      "source": [
        "**Normalize for composition bias**\n",
        "\n",
        "Normalization by trimmed mean of M values (TMM) is performed by using the calcNormFactors function. It calculates a set of normalization factors, one for each sample, to eliminate composition biases between libraries. The product of these factors and the library sizes defines the effective library size, which replaces the original library size in all downstream analyses."
      ]
    },
    {
      "cell_type": "code",
      "execution_count": null,
      "metadata": {
        "id": "0X3cN8AIGqYb"
      },
      "outputs": [],
      "source": [
        "%%R\n",
        "y<-calcNormFactors(y)\n",
        "y$samples"
      ]
    },
    {
      "cell_type": "markdown",
      "metadata": {
        "id": "IDxvinQuHkQm"
      },
      "source": [
        "**Explore differences between samples**\n",
        "\n",
        "The RNA samples can be clustered in two dimensions using multi-dimensional scaling (MDS) plots. This is both an analysis step and a quality control step to explore the overall differences between the expression profiles of the different samples."
      ]
    },
    {
      "cell_type": "code",
      "execution_count": null,
      "metadata": {
        "id": "KCOWeLkoIBAv"
      },
      "outputs": [],
      "source": [
        "%%R\n",
        "pch<- c(rep(25,3),rep(6,3),rep(10,2),rep(20,3))\n",
        "colors<- c(rep(\"red\",3),rep(\"blue\",3),rep(\"orange\",2),rep(\"black\",3))\n",
        "plotMDS(y,col=colors,pch = pch)\n",
        "legend(\"top\", legend=colnames(GenewiseCounts), pch=pch, col=colors,ncol = 1,cex = 0.8)"
      ]
    },
    {
      "cell_type": "markdown",
      "metadata": {
        "id": "emwDwGUSIZ_v"
      },
      "source": [
        "Check the expression profiles of individual samples after normalisation by plotting MD plot"
      ]
    },
    {
      "cell_type": "code",
      "execution_count": null,
      "metadata": {
        "id": "Xig0cWsTIPqR"
      },
      "outputs": [],
      "source": [
        "%%R\n",
        "plotMD(y,column=1)\n",
        "abline(h=0,col=\"red\",lty=2,lwd=2)"
      ]
    },
    {
      "cell_type": "markdown",
      "metadata": {
        "id": "nQnOz3TlImEK"
      },
      "source": [
        "Linear modeling and differential expression analysis in edgeR requires a design matrix to be specified. The design matrix defines how the experimental effects are parametrized in the linear models."
      ]
    },
    {
      "cell_type": "code",
      "execution_count": null,
      "metadata": {
        "id": "aJBzZJbTJPLG"
      },
      "outputs": [],
      "source": [
        "%%R\n",
        "design <- model.matrix(~0+group)\n",
        "design"
      ]
    },
    {
      "cell_type": "markdown",
      "metadata": {
        "id": "pGflkNWSKqO4"
      },
      "source": [
        "**Dispersion estimation**\n",
        "\n",
        "edgeR uses the negative binomial (NB) distribution to model the read counts for each gene in each sample. The dispersion parameter of the NB distribution accounts for variability between biological replicates. edgeR estimates an empirical Bayes moderated dispersion for each individual gene. It also estimates a common dispersion, which is a global dispersion estimate averaged over all genes, and a trended dispersion where the dispersion of a gene is predicted from its abundance.\n",
        "Here robust=TRUE has been used to protect the empirical Bayes estimates against the possibility of outlier genes with exceptionally large or small individual dispersions.\n",
        "The dispersion estimates can be visualized with plotBCV function."
      ]
    },
    {
      "cell_type": "code",
      "execution_count": null,
      "metadata": {
        "id": "4b5lVTcgLDw1"
      },
      "outputs": [],
      "source": [
        "%%R\n",
        "y<-estimateDisp(y,design,robust=TRUE)\n",
        "plotBCV(y)"
      ]
    },
    {
      "cell_type": "markdown",
      "metadata": {
        "id": "JxxnrzG6LEj2"
      },
      "source": [
        "**Estimating quasi-likelihood (QL) dispersions**\n",
        "\n",
        "For RNA-seq studies, the NB dispersions tend to be higher for genes with very low counts. The dispersion trend tends to decrease smoothly with abundance and to asymptotic to a constant value for genes with larger counts. The NB model can be extended with quasi-likelihood (QL) methods to account for gene-specific variability from both biological and technical sources. Under the QL framework, the NB dispersion trend is used to describe the overall biological variability across all genes, and gene-specific variability above and below the overall level is picked up by the QL dispersion."
      ]
    },
    {
      "cell_type": "code",
      "execution_count": null,
      "metadata": {
        "id": "vcI3zpIsMwj-"
      },
      "outputs": [],
      "source": [
        "%%R\n",
        "fit<-glmQLFit(y,design,robust=TRUE)\n",
        "plotQLDisp(fit)"
      ]
    },
    {
      "cell_type": "markdown",
      "metadata": {
        "id": "E5sdNmmDMzkB"
      },
      "source": [
        "**Heatmap clustering**\n",
        "\n",
        "Heatmaps are a popular way to display differential expression results. To create a heatmap, we first convert the read counts into log2-counts-per-million (logCPM) values."
      ]
    },
    {
      "cell_type": "code",
      "execution_count": null,
      "metadata": {
        "id": "uyG01gZMOEjO"
      },
      "outputs": [],
      "source": [
        "%%R\n",
        "logCPM<-cpm(y,log=TRUE)\n",
        "head(logCPM)\n",
        "t_logCPM<-t(scale(t(logCPM)))\n",
        "col.pan<-colorpanel(100,\"green\",\"black\",\"red\")\n",
        "heatmap.2(t_logCPM, col=col.pan, Rowv=TRUE, scale=\"none\", trace=\"none\", dendrogram=\"column\",\n",
        "          labRow = F,cexCol=1.4, symkey = F,key.par = list(cex=0.5), symm=F,symbreaks = FALSE,density.info=\"none\",\n",
        "          margin=c(10,9),lhei=c(2,10), lwid=c(2,6),key = TRUE, keysize = 2)"
      ]
    },
    {
      "cell_type": "markdown",
      "metadata": {
        "id": "csC7hnPTOZIv"
      },
      "source": [
        "**Preparing comparative groups and Analysing pairwise differential expression**\n",
        "\n",
        "The differential expression analysis comparing two groups can be easily extended to comparisons between three or more groups. This is done by creating a matrix of independent contrasts.\n",
        "Suppose we want to compare the four groups, an appropriate contrast matrix can be created using the makeContrasts() function as shown below, to make pairwise comparisons between all four groups.\n",
        "The QL F-test is then applied to identify genes that are DE between the four groups. This combines the four pairwise comparisons into a single F-statistic and p-value. The top set of significant genes can be displayed with topTags."
      ]
    },
    {
      "cell_type": "code",
      "execution_count": null,
      "metadata": {
        "id": "2LvhJNUvOYsV"
      },
      "outputs": [],
      "source": [
        "%%R\n",
        "comparisons<-c(\"groupKO_UT-groupWT_UT\")\n",
        "x = comparisons[1] \t\t\t#for first comparative group\n",
        "mvsw<-makeContrasts(x,levels=design)\n",
        "res<-glmQLFTest(fit,contrast=mvsw)\n",
        "W<- topTags(res,n = nrow(res$table))"
      ]
    },
    {
      "cell_type": "markdown",
      "metadata": {
        "id": "5vxMpI0eaC9_"
      },
      "source": [
        "Write the output to a file"
      ]
    },
    {
      "cell_type": "code",
      "execution_count": null,
      "metadata": {
        "id": "vyFKpcbjaB8O"
      },
      "outputs": [],
      "source": [
        "%%R\n",
        "write.csv(W, \"/content/drive/MyDrive/RNA_seq/KOvsWT.csv\")"
      ]
    },
    {
      "cell_type": "markdown",
      "metadata": {
        "id": "ViFR2wVUP5zI"
      },
      "source": [
        "**Generating a Volcano plot**\n",
        "\n",
        "Volcano plots provide an effective means for visualizing the direction, magnitude, and significance of changes in gene expression."
      ]
    },
    {
      "cell_type": "code",
      "execution_count": null,
      "metadata": {
        "id": "6p3YHj7bQEMf"
      },
      "outputs": [],
      "source": [
        "%%R\n",
        "with(W$table, plot(logFC, -log10(PValue), pch=20, main=\"Volcano plot\",\n",
        "                   col= ifelse((FDR <= 0.05 & abs(logFC) >= log2(2)),\"red\",\"black\")))\n",
        "legend(\"topleft\", legend=c(\"|logFC| >= log2(2) & pvalue<= 0.05\",\"|logFC| < log2(2) or pvalue >0.05\"),\n",
        "       pch=c(20,20), col=c(\"red\",\"black\"), ncol = 1,cex = 0.8)"
      ]
    }
  ],
  "metadata": {
    "colab": {
      "provenance": [],
      "include_colab_link": true
    },
    "kernelspec": {
      "display_name": "Python 3",
      "name": "python3"
    },
    "language_info": {
      "name": "python"
    }
  },
  "nbformat": 4,
  "nbformat_minor": 0
}