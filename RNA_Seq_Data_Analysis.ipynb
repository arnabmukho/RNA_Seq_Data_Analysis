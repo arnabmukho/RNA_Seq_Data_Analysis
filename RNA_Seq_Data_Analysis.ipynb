{
  "cells": [
    {
      "cell_type": "markdown",
      "metadata": {
        "id": "view-in-github",
        "colab_type": "text"
      },
      "source": [
        "<a href=\"https://colab.research.google.com/github/arnabmukho/RNA_Seq_Data_Analysis/blob/main/RNA_Seq_Data_Analysis.ipynb\" target=\"_parent\"><img src=\"https://colab.research.google.com/assets/colab-badge.svg\" alt=\"Open In Colab\"/></a>"
      ]
    },
    {
      "cell_type": "code",
      "execution_count": null,
      "metadata": {
        "id": "bL93GZBBxY3Y"
      },
      "outputs": [],
      "source": [
        "%reload_ext rpy2.ipython\n"
      ]
    },
    {
      "cell_type": "markdown",
      "metadata": {
        "id": "IE0b68JCb46O"
      },
      "source": [
        "Mount your Google drive to the notebook"
      ]
    },
    {
      "cell_type": "code",
      "execution_count": null,
      "metadata": {
        "id": "K3Vo1G8zEmXn"
      },
      "outputs": [],
      "source": [
        "from google.colab import drive\n",
        "drive.mount('/content/drive', force_remount = True)"
      ]
    },
    {
      "cell_type": "markdown",
      "metadata": {
        "id": "epXHFHFVEnNM"
      },
      "source": [
        "# RNA Sequencing Data Analysis"
      ]
    },
    {
      "cell_type": "markdown",
      "metadata": {
        "id": "ZmzxUrti_i50"
      },
      "source": [
        "Install following softwares"
      ]
    },
    {
      "cell_type": "code",
      "execution_count": null,
      "metadata": {
        "id": "FPL6OK3x5B34"
      },
      "outputs": [],
      "source": [
        "!apt-get install fastqc\n",
        "!apt-get install bwa\n",
        "!apt-get install samtools\n",
        "!apt-get install bedtools"
      ]
    },
    {
      "cell_type": "markdown",
      "metadata": {
        "id": "Q2XjoK3Tdmnp"
      },
      "source": [
        "1. Checking raw read quality"
      ]
    },
    {
      "cell_type": "code",
      "execution_count": null,
      "metadata": {
        "id": "T_aorSeyzWn0"
      },
      "outputs": [],
      "source": [
        "!fastqc /content/drive/MyDrive/RNA_seq_V/fastq_dir/sample.fastq -o /content/drive/MyDrive/RNA_seq_V/fastq_dir"
      ]
    },
    {
      "cell_type": "markdown",
      "metadata": {
        "id": "8F-YBcM9B6Vg"
      },
      "source": [
        "**2. Removing adapters**"
      ]
    },
    {
      "cell_type": "markdown",
      "metadata": {
        "id": "K_dlp8pfAmex"
      },
      "source": [
        "**3. Indexing the reference genome**\n",
        "\n"
      ]
    },
    {
      "cell_type": "code",
      "execution_count": null,
      "metadata": {
        "id": "m193C3T1zcGf"
      },
      "outputs": [],
      "source": [
        "!bwa index -a is /content/drive/MyDrive/RNA_seq_V/reference_dir/sequence.fasta"
      ]
    },
    {
      "cell_type": "markdown",
      "metadata": {
        "id": "MNl4-5RkCnBY"
      },
      "source": [
        "**4. Aligning raw reads against the indexed reference genome**\n",
        "\n"
      ]
    },
    {
      "cell_type": "code",
      "execution_count": null,
      "metadata": {
        "id": "iwl3BK0U1FHe"
      },
      "outputs": [],
      "source": [
        "! bwa aln -q 20 /content/drive/MyDrive/RNA_seq_V/reference_dir/sequence.fasta /content/drive/MyDrive/RNA_seq_V/fastq_dir/sample.fastq > /content/drive/MyDrive/RNA_seq_V/sai_dir/sample.sai"
      ]
    },
    {
      "cell_type": "markdown",
      "metadata": {
        "id": "FsxZ1q06DBa9"
      },
      "source": [
        "**5. Sai to sam conversion**\n",
        "\n",
        "\n"
      ]
    },
    {
      "cell_type": "code",
      "execution_count": null,
      "metadata": {
        "id": "P4xK9G3J1Izr"
      },
      "outputs": [],
      "source": [
        "!bwa samse /content/drive/MyDrive/RNA_seq_V/reference_dir/sequence.fasta /content/drive/MyDrive/RNA_seq_V/sai_dir/sample.sai /content/drive/MyDrive/RNA_seq_V/fastq_dir/sample.fastq > /content/drive/MyDrive/RNA_seq_V/sam_dir/sample.sam"
      ]
    },
    {
      "cell_type": "markdown",
      "metadata": {
        "id": "CFYeOXxjyuU3"
      },
      "source": [
        "visualise sam file"
      ]
    },
    {
      "cell_type": "code",
      "execution_count": null,
      "metadata": {
        "id": "FgrhtE5D7lME"
      },
      "outputs": [],
      "source": [
        "! head -15 /content/drive/MyDrive/RNA_seq_V/sam_dir/sample.sam"
      ]
    },
    {
      "cell_type": "markdown",
      "metadata": {
        "id": "Ihg1Vkyhzqd4"
      },
      "source": [
        "**6. Converting .sam to .bam file**"
      ]
    },
    {
      "cell_type": "code",
      "execution_count": null,
      "metadata": {
        "id": "Ol_Zw-DYzrd_"
      },
      "outputs": [],
      "source": [
        "!samtools view -q1 -Sb /content/drive/MyDrive/RNA_seq_V/sam_dir/sample.sam > /content/drive/MyDrive/RNA_seq_V/bam_dir/sample.bam"
      ]
    },
    {
      "cell_type": "markdown",
      "metadata": {
        "id": "Ry76E_SRzwjF"
      },
      "source": [
        "**7. Sorting the .bam file**\n"
      ]
    },
    {
      "cell_type": "code",
      "execution_count": null,
      "metadata": {
        "id": "E9btQW1yztX0"
      },
      "outputs": [],
      "source": [
        "!samtools sort /content/drive/MyDrive/RNA_seq_V/bam_dir/sample.bam -o /content/drive/MyDrive/RNA_seq_V/bam_dir/sample.sorted.bam"
      ]
    },
    {
      "cell_type": "markdown",
      "metadata": {
        "id": "qRGS2Hy7z1l7"
      },
      "source": [
        "**8. Indexing the sorted bam file**\n"
      ]
    },
    {
      "cell_type": "code",
      "execution_count": null,
      "metadata": {
        "id": "JTGAhJ_qzyZw"
      },
      "outputs": [],
      "source": [
        "!samtools index /content/drive/MyDrive/RNA_seq_V/bam_dir/sample.sorted.bam"
      ]
    },
    {
      "cell_type": "markdown",
      "metadata": {
        "id": "WDyFHFY5z4Bp"
      },
      "source": [
        "**9. Displaying statistics of the mapped reads**"
      ]
    },
    {
      "cell_type": "code",
      "execution_count": null,
      "metadata": {
        "id": "G3gT_s5sz65a"
      },
      "outputs": [],
      "source": [
        "!samtools flagstat /content/drive/MyDrive/RNA_seq/bam_dir/sample.sorted.bam > /content/drive/MyDrive/RNA_seq/flagstat_dir/sample.flagstat"
      ]
    },
    {
      "cell_type": "markdown",
      "metadata": {
        "id": "151MEzsWd34v"
      },
      "source": [
        "10. Converting Bam to Bed file"
      ]
    },
    {
      "cell_type": "code",
      "execution_count": null,
      "metadata": {
        "id": "kEbRVsXX0CIt"
      },
      "outputs": [],
      "source": [
        "!bedtools bamtobed -i /content/drive/MyDrive/RNA_seq/bam_dir/sample.sorted.bam > /content/drive/MyDrive/RNA_seq/bed_dir/sample.bed"
      ]
    },
    {
      "cell_type": "markdown",
      "metadata": {
        "id": "1S8QMuh6d9Gz"
      },
      "source": [
        "11. Preparing annotation bed files"
      ]
    },
    {
      "cell_type": "code",
      "execution_count": null,
      "metadata": {
        "id": "BewoG7Yt0G0y"
      },
      "outputs": [],
      "source": [
        "!python  /content/drive/MyDrive/RNA_seq/annotation_dir/gff2bed.py /content/drive/MyDrive/RNA_seq/annotation_dir/sequence.gff3 /content/drive/MyDrive/RNA_seq/annotation_dir/sequence.bed"
      ]
    },
    {
      "cell_type": "markdown",
      "metadata": {
        "id": "yYQCGukfLVYC"
      },
      "source": [
        "**12. Generating gene coverage file**"
      ]
    },
    {
      "cell_type": "code",
      "execution_count": null,
      "metadata": {
        "id": "qBqXfhhs0PFL"
      },
      "outputs": [],
      "source": [
        "!bedtools coverage -S  -a /content/drive/MyDrive/RNA_seq/annotation_dir/sequence.bed -b /content/drive/MyDrive/RNA_seq/bed_dir/sample.bed > /content/drive/MyDrive/RNA_seq/coverage_dir/sample.cov"
      ]
    },
    {
      "cell_type": "code",
      "execution_count": null,
      "metadata": {
        "id": "ScWOcY1vQpbQ"
      },
      "outputs": [],
      "source": [
        "! head /content/drive/MyDrive/RNA_seq/coverage_dir/sample.cov"
      ]
    },
    {
      "cell_type": "code",
      "execution_count": null,
      "metadata": {
        "id": "CsDoiOk8TyxJ"
      },
      "outputs": [],
      "source": [
        "%reload_ext rpy2.ipython"
      ]
    },
    {
      "cell_type": "markdown",
      "source": [
        "Differential Gene Expression"
      ],
      "metadata": {
        "id": "OldjyM7Gspig"
      }
    },
    {
      "cell_type": "markdown",
      "metadata": {
        "id": "Z8kcc0FC9-ht"
      },
      "source": [
        "Download and install the following packages"
      ]
    },
    {
      "cell_type": "code",
      "execution_count": null,
      "metadata": {
        "colab": {
          "background_save": true
        },
        "id": "w2fFVeoJ8m63"
      },
      "outputs": [],
      "source": [
        "%%R\n",
        "install.packages('BiocManager')\n",
        "BiocManager::install(\"edgeR\")\n",
        "install.packages('statmod')\n",
        "install.packages('gplots')"
      ]
    },
    {
      "cell_type": "markdown",
      "metadata": {
        "id": "NhQPkfCq-W3f"
      },
      "source": [
        "Load the installed packages"
      ]
    },
    {
      "cell_type": "code",
      "execution_count": null,
      "metadata": {
        "id": "cIZD4EyX-YoN"
      },
      "outputs": [],
      "source": [
        "%%R\n",
        "library(\"edgeR\")\n",
        "library(\"statmod\")\n",
        "library(\"gplots\")"
      ]
    },
    {
      "cell_type": "code",
      "execution_count": null,
      "metadata": {
        "id": "Ed9kGlJt6pjm"
      },
      "outputs": [],
      "source": [
        "from google.colab import drive\n",
        "drive.mount('/content/drive')"
      ]
    },
    {
      "cell_type": "markdown",
      "metadata": {
        "id": "ZMjB2PtQ_vl0"
      },
      "source": [
        "Read the coverage files and make one gene count matrix. (Run following commands in one cell)"
      ]
    },
    {
      "cell_type": "code",
      "execution_count": null,
      "metadata": {
        "id": "QraEkpjU_2px"
      },
      "outputs": [],
      "source": [
        "%%R\n",
        "GenewiseCounts <- c()\n",
        "Gene_coverage <- c()\n",
        "X <- c()\n",
        "index= 0\n",
        "list_all = list.files(\"/content/drive/MyDrive/RNAseq/RNA_seq/coverage_files/\")\n",
        "for (filename in list_all) {\n",
        "index = index +1\n",
        "A <- read.table(paste(\"/content/drive/MyDrive/RNAseq/RNA_seq/coverage_files/\",filename, sep=\"/\"),header = F)\n",
        "A <- A[order(A$V5),]\n",
        "Genes <- A$V5\n",
        "gene_name <- A$V4\n",
        "GenewiseCounts <- cbind(GenewiseCounts,A$V7)\n",
        "colnames(GenewiseCounts)[index]= filename\n",
        "}"
      ]
    },
    {
      "cell_type": "markdown",
      "metadata": {
        "id": "D8ytC4Ma_638"
      },
      "source": [
        "Display the first 5 lines of the gene count matrix (GenewiseCounts) using head() function"
      ]
    },
    {
      "cell_type": "code",
      "execution_count": null,
      "metadata": {
        "id": "XUtnBhAK_84j"
      },
      "outputs": [],
      "source": [
        "%%R\n",
        "head(GenewiseCounts)"
      ]
    },
    {
      "cell_type": "markdown",
      "metadata": {
        "id": "mxmTg4_TC9b-"
      },
      "source": [
        "Name rows as genes and columns of the read count matrix / coverage file as sample names"
      ]
    },
    {
      "cell_type": "code",
      "execution_count": null,
      "metadata": {
        "id": "m5oVgmxIC87l"
      },
      "outputs": [],
      "source": [
        "%%R\n",
        "rownames(GenewiseCounts) <- Genes\n",
        "colnames(GenewiseCounts) <- c(\n",
        "paste(rep(\"WT_UT\",3),seq(1,3),sep = \"_\"),\n",
        "paste(rep(\"WT_NO\",3),seq(1,3),sep = \"_\"),\n",
        "paste(rep(\"KO_UT\",2),seq(1,2),sep = \"_\"),\n",
        "paste(rep(\"KO_NO\",3),seq(1,3),sep = \"_\"))"
      ]
    },
    {
      "cell_type": "markdown",
      "metadata": {
        "id": "f3CU_E9_DF6S"
      },
      "source": [
        "**Remove reads mapping ribosomal RNA (rRNA) features**\n",
        "In the following code, change the rrna gene names according to the genome that you have."
      ]
    },
    {
      "cell_type": "code",
      "execution_count": null,
      "metadata": {
        "id": "VlpKoxRnDibp"
      },
      "outputs": [],
      "source": [
        "%%R\n",
        "rrna <- c(\"rrs\",\"rrl\",\"rrf\")\n",
        "mrna_mapped_reads <- (colSums(GenewiseCounts)-colSums(GenewiseCounts[which(rownames(GenewiseCounts)%in% rrna),]))/1000000\n",
        "print(mrna_mapped_reads)\n",
        "GenewiseCounts <- GenewiseCounts[-which(rownames(GenewiseCounts)%in% rrna),]"
      ]
    },
    {
      "cell_type": "markdown",
      "metadata": {
        "id": "3-VFCn3ZDqzW"
      },
      "source": [
        "**Create sample groups (WT and KO)**\n"
      ]
    },
    {
      "cell_type": "code",
      "execution_count": null,
      "metadata": {
        "id": "BsN3Q1BJDqd3"
      },
      "outputs": [],
      "source": [
        "%%R\n",
        "group<- c(rep(\"WT_UT\",3),rep(\"WT_NO\",3),rep(\"KO_UT\",2),rep(\"KO_NO\",3))\n",
        "print(group)"
      ]
    },
    {
      "cell_type": "markdown",
      "metadata": {
        "id": "VQSdoKVfEMgt"
      },
      "source": [
        "The edgeR package stores data in a simple list-based data object called a DGEList. The main components of a DGEList object are a matrix of read counts, sample information in the data.frame format and optional gene annotation. We enter the counts into a DGEList object using the function DGEList:"
      ]
    },
    {
      "cell_type": "code",
      "execution_count": null,
      "metadata": {
        "id": "q6yf7g1qETDm"
      },
      "outputs": [],
      "source": [
        "%%R\n",
        "y<-DGEList(GenewiseCounts,group=group)\n",
        "y$samples"
      ]
    },
    {
      "cell_type": "markdown",
      "metadata": {
        "id": "ZoUhsdK6Ej2x"
      },
      "source": [
        "The expression profiles of individual samples can be explored more closely with mean-difference (MD) plots. An MD plot visualizes the library size-adjusted log-fold change between two libraries (the difference) against the average log-expression across those libraries (the mean). The following command produces an MD plot that compares sample 1 to an artificial reference library constructed from the average of all the other samples:"
      ]
    },
    {
      "cell_type": "code",
      "execution_count": null,
      "metadata": {
        "id": "shlL8zUdEki9"
      },
      "outputs": [],
      "source": [
        "%%R\n",
        "plotMD(y,column=1)\n",
        "abline(h=0,col=\"red\",lty=2,lwd=2)"
      ]
    },
    {
      "cell_type": "markdown",
      "metadata": {
        "id": "906RUMlzEmy8"
      },
      "source": [
        "**Filter to remove low counts**\n"
      ]
    },
    {
      "cell_type": "code",
      "execution_count": null,
      "metadata": {
        "id": "NaKqy8TjFmY0"
      },
      "outputs": [],
      "source": [
        "%%R\n",
        "keep <- rowSums(y$counts >= 10) >= ncol(GenewiseCounts)\n",
        "table(keep)\n",
        "y<-y[keep,keep.lib.sizes=FALSE]"
      ]
    },
    {
      "cell_type": "markdown",
      "metadata": {
        "id": "IGScthsPFpSa"
      },
      "source": [
        "**Normalize for composition bias**"
      ]
    },
    {
      "cell_type": "code",
      "execution_count": null,
      "metadata": {
        "id": "0X3cN8AIGqYb"
      },
      "outputs": [],
      "source": [
        "%%R\n",
        "y<-calcNormFactors(y)\n",
        "y$samples"
      ]
    },
    {
      "cell_type": "markdown",
      "metadata": {
        "id": "IDxvinQuHkQm"
      },
      "source": [
        "**Explore differences between samples**"
      ]
    },
    {
      "cell_type": "code",
      "execution_count": null,
      "metadata": {
        "id": "KCOWeLkoIBAv"
      },
      "outputs": [],
      "source": [
        "%%R\n",
        "pch<- c(rep(25,3),rep(6,3),rep(10,2),rep(20,3))\n",
        "colors<- c(rep(\"red\",3),rep(\"blue\",3),rep(\"orange\",2),rep(\"black\",3))\n",
        "plotMDS(y,col=colors,pch = pch)\n",
        "legend(\"top\", legend=colnames(GenewiseCounts), pch=pch, col=colors,ncol = 1,cex = 0.8)"
      ]
    },
    {
      "cell_type": "markdown",
      "metadata": {
        "id": "emwDwGUSIZ_v"
      },
      "source": [
        "Check the expression profiles of individual samples after normalisation by plotting MD plot"
      ]
    },
    {
      "cell_type": "code",
      "execution_count": null,
      "metadata": {
        "id": "Xig0cWsTIPqR"
      },
      "outputs": [],
      "source": [
        "%%R\n",
        "plotMD(y,column=1)\n",
        "abline(h=0,col=\"red\",lty=2,lwd=2)"
      ]
    },
    {
      "cell_type": "markdown",
      "metadata": {
        "id": "nQnOz3TlImEK"
      },
      "source": [
        "Linear modeling and differential expression analysis in edgeR requires a design matrix to be specified. The design matrix defines how the experimental effects are parametrized in the linear models."
      ]
    },
    {
      "cell_type": "code",
      "execution_count": null,
      "metadata": {
        "id": "aJBzZJbTJPLG"
      },
      "outputs": [],
      "source": [
        "%%R\n",
        "design <- model.matrix(~0+group)\n",
        "design"
      ]
    },
    {
      "cell_type": "markdown",
      "metadata": {
        "id": "pGflkNWSKqO4"
      },
      "source": [
        "**Dispersion estimation**"
      ]
    },
    {
      "cell_type": "code",
      "execution_count": null,
      "metadata": {
        "id": "4b5lVTcgLDw1"
      },
      "outputs": [],
      "source": [
        "%%R\n",
        "y<-estimateDisp(y,design,robust=TRUE)\n",
        "plotBCV(y)"
      ]
    },
    {
      "cell_type": "markdown",
      "metadata": {
        "id": "JxxnrzG6LEj2"
      },
      "source": [
        "**Estimating quasi-likelihood (QL) dispersions**"
      ]
    },
    {
      "cell_type": "code",
      "execution_count": null,
      "metadata": {
        "id": "vcI3zpIsMwj-"
      },
      "outputs": [],
      "source": [
        "%%R\n",
        "fit<-glmQLFit(y,design,robust=TRUE)\n",
        "plotQLDisp(fit)"
      ]
    },
    {
      "cell_type": "markdown",
      "metadata": {
        "id": "E5sdNmmDMzkB"
      },
      "source": [
        "**Heatmap clustering**\n",
        "\n",
        "Heatmaps are a popular way to display differential expression results. To create a heatmap, we first convert the read counts into log2-counts-per-million (logCPM) values."
      ]
    },
    {
      "cell_type": "code",
      "execution_count": null,
      "metadata": {
        "id": "uyG01gZMOEjO"
      },
      "outputs": [],
      "source": [
        "%%R\n",
        "logCPM<-cpm(y,log=TRUE)\n",
        "head(logCPM)\n",
        "t_logCPM<-t(scale(t(logCPM)))\n",
        "col.pan<-colorpanel(100,\"green\",\"black\",\"red\")\n",
        "heatmap.2(t_logCPM, col=col.pan, Rowv=TRUE, scale=\"none\", trace=\"none\", dendrogram=\"column\",\n",
        "          labRow = F,cexCol=1.4, symkey = F,key.par = list(cex=0.5), symm=F,symbreaks = FALSE,density.info=\"none\",\n",
        "          margin=c(10,9),lhei=c(2,10), lwid=c(2,6),key = TRUE, keysize = 2)"
      ]
    },
    {
      "cell_type": "markdown",
      "metadata": {
        "id": "csC7hnPTOZIv"
      },
      "source": [
        "**Preparing comparative groups and Analysing pairwise differential expression**"
      ]
    },
    {
      "cell_type": "code",
      "execution_count": null,
      "metadata": {
        "id": "2LvhJNUvOYsV"
      },
      "outputs": [],
      "source": [
        "%%R\n",
        "comparisons<-c(\"groupKO_UT-groupWT_UT\")\n",
        "x = comparisons[1] \t\t\t#for first comparative group\n",
        "mvsw<-makeContrasts(x,levels=design)\n",
        "res<-glmQLFTest(fit,contrast=mvsw)\n",
        "W<- topTags(res,n = nrow(res$table))"
      ]
    },
    {
      "cell_type": "markdown",
      "metadata": {
        "id": "5vxMpI0eaC9_"
      },
      "source": [
        "Write the output to a file"
      ]
    },
    {
      "cell_type": "code",
      "execution_count": null,
      "metadata": {
        "id": "vyFKpcbjaB8O"
      },
      "outputs": [],
      "source": [
        "%%R\n",
        "write.csv(W, \"/content/drive/MyDrive/RNA_seq/KOvsWT.csv\")"
      ]
    },
    {
      "cell_type": "markdown",
      "metadata": {
        "id": "ViFR2wVUP5zI"
      },
      "source": [
        "**Generating a Volcano plot**\n",
        "\n",
        "Volcano plots provide an effective means for visualizing the direction, magnitude, and significance of changes in gene expression."
      ]
    },
    {
      "cell_type": "code",
      "execution_count": null,
      "metadata": {
        "id": "6p3YHj7bQEMf"
      },
      "outputs": [],
      "source": [
        "%%R\n",
        "with(W$table, plot(logFC, -log10(PValue), pch=20, main=\"Volcano plot\",\n",
        "                   col= ifelse((FDR <= 0.05 & abs(logFC) >= log2(2)),\"red\",\"black\")))\n",
        "legend(\"topleft\", legend=c(\"|logFC| >= log2(2) & pvalue<= 0.05\",\"|logFC| < log2(2) or pvalue >0.05\"),\n",
        "       pch=c(20,20), col=c(\"red\",\"black\"), ncol = 1,cex = 0.8)"
      ]
    }
  ],
  "metadata": {
    "colab": {
      "provenance": [],
      "include_colab_link": true
    },
    "kernelspec": {
      "display_name": "Python 3",
      "name": "python3"
    },
    "language_info": {
      "name": "python"
    }
  },
  "nbformat": 4,
  "nbformat_minor": 0
}